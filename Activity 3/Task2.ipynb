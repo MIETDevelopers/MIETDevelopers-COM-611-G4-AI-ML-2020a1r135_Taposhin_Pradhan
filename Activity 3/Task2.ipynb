{
 "cells": [
  {
   "cell_type": "code",
   "execution_count": 9,
   "id": "5a56f517",
   "metadata": {},
   "outputs": [
    {
     "name": "stdout",
     "output_type": "stream",
     "text": [
      "[['some' 'small' 'no' 'affordable' 'many']\n",
      " ['many' 'big' 'no' 'expensive' 'one']\n",
      " ['some' 'big' 'always' 'expensive' 'few']\n",
      " ['many' 'medium' 'no' 'expensive' 'many']\n",
      " ['many' 'small' 'no' 'affordable' 'many']]\n",
      "['no' 'yes' 'no' 'yes' 'yes']\n"
     ]
    }
   ],
   "source": [
    "import pandas as pd\n",
    "import numpy as np\n",
    "data = pd.read_csv('lab3.1.csv')\n",
    "concepts = np.array(data)[:,:-1]\n",
    "print(concepts)\n",
    "target = np.array(data)[:,-1]\n",
    "print(target)"
   ]
  },
  {
   "cell_type": "code",
   "execution_count": 10,
   "id": "614999f1",
   "metadata": {},
   "outputs": [],
   "source": [
    "def train(con,tar):\n",
    "    for i,val in enumerate(tar):\n",
    "        if val=='yes':\n",
    "            specific_h = con[i].copy()\n",
    "            break\n",
    "            \n",
    "    for i,val in enumerate(con):\n",
    "        if tar[i]=='yes':\n",
    "            for x in range(len(specific_h)):\n",
    "                if val[x] != specific_h[x]:\n",
    "                    specific_h[x] = '?'\n",
    "                else:\n",
    "                    pass\n",
    "    return specific_h"
   ]
  },
  {
   "cell_type": "code",
   "execution_count": 11,
   "id": "ba4ada83",
   "metadata": {},
   "outputs": [
    {
     "name": "stdout",
     "output_type": "stream",
     "text": [
      "['many' '?' 'no' '?' '?']\n"
     ]
    }
   ],
   "source": [
    "print(train(concepts,target))"
   ]
  },
  {
   "cell_type": "code",
   "execution_count": null,
   "id": "7a05bf9c",
   "metadata": {},
   "outputs": [],
   "source": []
  },
  {
   "cell_type": "code",
   "execution_count": null,
   "id": "32746279",
   "metadata": {},
   "outputs": [],
   "source": []
  }
 ],
 "metadata": {
  "kernelspec": {
   "display_name": "Python 3 (ipykernel)",
   "language": "python",
   "name": "python3"
  },
  "language_info": {
   "codemirror_mode": {
    "name": "ipython",
    "version": 3
   },
   "file_extension": ".py",
   "mimetype": "text/x-python",
   "name": "python",
   "nbconvert_exporter": "python",
   "pygments_lexer": "ipython3",
   "version": "3.9.12"
  }
 },
 "nbformat": 4,
 "nbformat_minor": 5
}
